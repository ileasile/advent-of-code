{
 "cells": [
  {
   "cell_type": "code",
   "execution_count": 1,
   "metadata": {},
   "outputs": [],
   "source": [
    "open class Day(private val dayNum: Int) {\n",
    "    val dataFolder = java.io.File(\"data21\")\n",
    "    fun readDay(number: Int) = dataFolder.resolve(\"day$number.txt\").readText().lines()\n",
    "    protected val input by lazy { readDay(dayNum) }\n",
    "    \n",
    "    open fun part1(): Int {\n",
    "        return 0\n",
    "    }\n",
    "    \n",
    "    open fun part2(): Int {\n",
    "        return 0\n",
    "    }\n",
    "    \n",
    "    fun render(): String {\n",
    "        return \"\"\"\n",
    "            === DAY $dayNum ===\n",
    "            Part 1 answer: ${part1()}\n",
    "            Part 2 answer: ${part2()}\n",
    "        \"\"\".trimIndent()\n",
    "    }\n",
    "}\n",
    "\n",
    "fun day(number: Int, p1: (List<String>) -> Int, p2: (List<String>) -> Int): Day {\n",
    "    return object : Day(number) {\n",
    "        override fun part1(): Int {\n",
    "            return p1(input)\n",
    "        }\n",
    "        override fun part2(): Int {\n",
    "            return p2(input)\n",
    "        }\n",
    "    }\n",
    "}\n",
    "\n",
    "USE {\n",
    "    render<Day> { it.render() }\n",
    "}"
   ]
  },
  {
   "cell_type": "code",
   "execution_count": 2,
   "metadata": {},
   "outputs": [
    {
     "data": {
      "text/plain": [
       "=== DAY 0 ===\n",
       "Part 1 answer: 0\n",
       "Part 2 answer: 0"
      ]
     },
     "execution_count": 2,
     "metadata": {},
     "output_type": "execute_result"
    }
   ],
   "source": [
    "object : Day(0) {\n",
    "    override fun part1(): Int {\n",
    "        return 0\n",
    "    }\n",
    "    \n",
    "    override fun part2(): Int {\n",
    "        return 0\n",
    "    }\n",
    "}"
   ]
  },
  {
   "cell_type": "code",
   "execution_count": 3,
   "metadata": {},
   "outputs": [
    {
     "data": {
      "text/plain": [
       "=== DAY 1 ===\n",
       "Part 1 answer: 1616\n",
       "Part 2 answer: 1645"
      ]
     },
     "execution_count": 3,
     "metadata": {},
     "output_type": "execute_result"
    }
   ],
   "source": [
    "object : Day(1) {\n",
    "    val inputList = input.map { it.toInt() }\n",
    "    fun List<Int>.howMany() = subList(1, size).zip(subList(0, size - 1)).count {(after, before) -> after > before}\n",
    "    \n",
    "    override fun part1(): Int {\n",
    "        return inputList.howMany()\n",
    "    }\n",
    "    \n",
    "    override fun part2(): Int {\n",
    "        return inputList.windowed(3).map { it.sum() }.howMany()\n",
    "    }\n",
    "}"
   ]
  },
  {
   "cell_type": "code",
   "execution_count": 4,
   "metadata": {},
   "outputs": [
    {
     "data": {
      "text/plain": [
       "=== DAY 2 ===\n",
       "Part 1 answer: 1728414\n",
       "Part 2 answer: 1765720035"
      ]
     },
     "execution_count": 4,
     "metadata": {},
     "output_type": "execute_result"
    }
   ],
   "source": [
    "object : Day(2) {\n",
    "    override fun part1(): Int {\n",
    "        var x = 0\n",
    "        var d = 0\n",
    "\n",
    "        input.forEach {\n",
    "            val command = it.substringBefore(' ')\n",
    "            val value = it.substringAfter(' ').toInt()\n",
    "            when(command) {\n",
    "                \"up\" -> d -= value\n",
    "                \"down\" -> d += value\n",
    "                \"forward\" -> x += value\n",
    "            }\n",
    "        }\n",
    "        return x * d\n",
    "    }\n",
    "    \n",
    "    override fun part2(): Int {\n",
    "        var x = 0\n",
    "        var d = 0\n",
    "        var aim  = 0\n",
    "        input.forEach {\n",
    "            val command = it.substringBefore(' ')\n",
    "            val value = it.substringAfter(' ').toInt()\n",
    "            when(command) {\n",
    "                \"up\" -> aim -= value\n",
    "                \"down\" -> aim += value\n",
    "                \"forward\" -> {\n",
    "                    x += value\n",
    "                    d += aim * value\n",
    "                }\n",
    "            }\n",
    "        }\n",
    "        return x * d\n",
    "    }\n",
    "}"
   ]
  },
  {
   "cell_type": "code",
   "execution_count": 5,
   "metadata": {},
   "outputs": [
    {
     "data": {
      "text/plain": [
       "=== DAY 3 ===\n",
       "Part 1 answer: 2035764\n",
       "Part 2 answer: 2817661"
      ]
     },
     "execution_count": 5,
     "metadata": {},
     "output_type": "execute_result"
    }
   ],
   "source": [
    "object : Day(3) {\n",
    "    val n = input.first().length\n",
    "    val m = input.size\n",
    "    \n",
    "    fun List<Int>.convert() = fold(0) {acc, b -> acc * 2 + b}\n",
    "    \n",
    "    fun List<String>.myFilter(bitI: Int, mostCommon: Boolean): List<String> {\n",
    "        val n = size\n",
    "        val r = map { it[bitI] == '1' }\n",
    "        val onesCount = r.count { it }\n",
    "        val isOnes = onesCount * 2 >= n\n",
    "        return filterIndexed { i, _ -> r[i] xor isOnes xor mostCommon  }\n",
    "    }\n",
    "\n",
    "    fun List<String>.myFold(mostCommon: Boolean) = foldIndexed(this) { bitI, acc, _ ->\n",
    "        if (acc.size <= 1) acc else { acc.myFilter(bitI, mostCommon) }\n",
    "    }.single().map {if(it == '0') 0 else 1}.convert()\n",
    "    \n",
    "    override fun part1(): Int {\n",
    "        val result = input.fold(MutableList(n){0}) { acc, line ->\n",
    "            line.forEachIndexed { i, c -> if (c == '1') acc[i]++ };\n",
    "            acc \n",
    "        }.map { if (it * 2 >= m) 1 else 0 }\n",
    "        val iresult = result.map { 1 - it }\n",
    "        return result.convert() * iresult.convert()\n",
    "    }\n",
    "    \n",
    "    override fun part2(): Int {\n",
    "        return input.myFold(true) * input.myFold(false)\n",
    "    }\n",
    "}"
   ]
  },
  {
   "cell_type": "code",
   "execution_count": 6,
   "metadata": {},
   "outputs": [
    {
     "data": {
      "text/plain": [
       "=== DAY 4 ===\n",
       "Part 1 answer: 0\n",
       "Part 2 answer: 0"
      ]
     },
     "execution_count": 6,
     "metadata": {},
     "output_type": "execute_result"
    }
   ],
   "source": [
    "object : Day(4) {\n",
    "    override fun part1(): Int {\n",
    "        return 0\n",
    "    }\n",
    "    \n",
    "    override fun part2(): Int {\n",
    "        return 0\n",
    "    }\n",
    "}"
   ]
  },
  {
   "cell_type": "code",
   "execution_count": null,
   "metadata": {},
   "outputs": [],
   "source": []
  }
 ],
 "metadata": {
  "kernelspec": {
   "display_name": "Kotlin",
   "language": "kotlin",
   "name": "kotlin"
  },
  "language_info": {
   "codemirror_mode": "text/x-kotlin",
   "file_extension": ".kt",
   "mimetype": "text/x-kotlin",
   "name": "kotlin",
   "nbconvert_exporter": "",
   "pygments_lexer": "kotlin",
   "version": "1.6.20-dev-6372"
  }
 },
 "nbformat": 4,
 "nbformat_minor": 4
}
