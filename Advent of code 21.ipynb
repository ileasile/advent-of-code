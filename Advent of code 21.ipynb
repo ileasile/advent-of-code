{
 "cells": [
  {
   "cell_type": "code",
   "execution_count": 1,
   "metadata": {},
   "outputs": [],
   "source": [
    "open class Day(private val dayNum: Int) {\n",
    "    val dataFolder = java.io.File(\"data21\")\n",
    "    fun readDay(number: Int) = dataFolder.resolve(\"day$number.txt\").readText().lines()\n",
    "    protected val input by lazy { readDay(dayNum) }\n",
    "    \n",
    "    open fun part1(): Any {\n",
    "        return 0\n",
    "    }\n",
    "    \n",
    "    open fun part2(): Any {\n",
    "        return 0\n",
    "    }\n",
    "    \n",
    "    fun render(): Any {\n",
    "        return HTML(\"\"\"\n",
    "            <h3 id=\"day$dayNum\">Day $dayNum.</h2>\n",
    "            <p><b>Part 1 answer:</b> ${part1()}</p>\n",
    "            <p><b>Part 2 answer:</b> ${part2()}</p>\n",
    "        \"\"\".trimIndent())\n",
    "    }\n",
    "}\n",
    "\n",
    "fun day(number: Int, p1: (List<String>) -> Int, p2: (List<String>) -> Int): Day {\n",
    "    return object : Day(number) {\n",
    "        override fun part1(): Int {\n",
    "            return p1(input)\n",
    "        }\n",
    "        override fun part2(): Int {\n",
    "            return p2(input)\n",
    "        }\n",
    "    }\n",
    "}\n",
    "\n",
    "USE {\n",
    "    render<Day> { it.render() }\n",
    "}"
   ]
  },
  {
   "cell_type": "code",
   "execution_count": 2,
   "metadata": {},
   "outputs": [
    {
     "data": {
      "text/html": [
       "<h3 id=\"day0\">Day 0.</h2>\n",
       "<p><b>Part 1 answer:</b> 0</p>\n",
       "<p><b>Part 2 answer:</b> 0</p>"
      ]
     },
     "execution_count": 2,
     "metadata": {},
     "output_type": "execute_result"
    }
   ],
   "source": [
    "object : Day(0) {\n",
    "    override fun part1(): Int {\n",
    "        return 0\n",
    "    }\n",
    "    \n",
    "    override fun part2(): Int {\n",
    "        return 0\n",
    "    }\n",
    "}"
   ]
  },
  {
   "cell_type": "code",
   "execution_count": 3,
   "metadata": {},
   "outputs": [
    {
     "data": {
      "text/html": [
       "<h3 id=\"day1\">Day 1.</h2>\n",
       "<p><b>Part 1 answer:</b> 1616</p>\n",
       "<p><b>Part 2 answer:</b> 1645</p>"
      ]
     },
     "execution_count": 3,
     "metadata": {},
     "output_type": "execute_result"
    }
   ],
   "source": [
    "object : Day(1) {\n",
    "    val inputList = input.map { it.toInt() }\n",
    "    fun List<Int>.howMany() = subList(1, size).zip(subList(0, size - 1)).count {(after, before) -> after > before}\n",
    "    \n",
    "    override fun part1(): Int {\n",
    "        return inputList.howMany()\n",
    "    }\n",
    "    \n",
    "    override fun part2(): Int {\n",
    "        return inputList.windowed(3).map { it.sum() }.howMany()\n",
    "    }\n",
    "}"
   ]
  },
  {
   "cell_type": "code",
   "execution_count": 4,
   "metadata": {},
   "outputs": [
    {
     "data": {
      "text/html": [
       "<h3 id=\"day2\">Day 2.</h2>\n",
       "<p><b>Part 1 answer:</b> 1728414</p>\n",
       "<p><b>Part 2 answer:</b> 1765720035</p>"
      ]
     },
     "execution_count": 4,
     "metadata": {},
     "output_type": "execute_result"
    }
   ],
   "source": [
    "object : Day(2) {\n",
    "    override fun part1(): Int {\n",
    "        var x = 0\n",
    "        var d = 0\n",
    "\n",
    "        input.forEach {\n",
    "            val command = it.substringBefore(' ')\n",
    "            val value = it.substringAfter(' ').toInt()\n",
    "            when(command) {\n",
    "                \"up\" -> d -= value\n",
    "                \"down\" -> d += value\n",
    "                \"forward\" -> x += value\n",
    "            }\n",
    "        }\n",
    "        return x * d\n",
    "    }\n",
    "    \n",
    "    override fun part2(): Int {\n",
    "        var x = 0\n",
    "        var d = 0\n",
    "        var aim  = 0\n",
    "        input.forEach {\n",
    "            val command = it.substringBefore(' ')\n",
    "            val value = it.substringAfter(' ').toInt()\n",
    "            when(command) {\n",
    "                \"up\" -> aim -= value\n",
    "                \"down\" -> aim += value\n",
    "                \"forward\" -> {\n",
    "                    x += value\n",
    "                    d += aim * value\n",
    "                }\n",
    "            }\n",
    "        }\n",
    "        return x * d\n",
    "    }\n",
    "}"
   ]
  },
  {
   "cell_type": "code",
   "execution_count": 5,
   "metadata": {},
   "outputs": [
    {
     "data": {
      "text/html": [
       "<h3 id=\"day3\">Day 3.</h2>\n",
       "<p><b>Part 1 answer:</b> 2035764</p>\n",
       "<p><b>Part 2 answer:</b> 2817661</p>"
      ]
     },
     "execution_count": 5,
     "metadata": {},
     "output_type": "execute_result"
    }
   ],
   "source": [
    "object : Day(3) {\n",
    "    val n = input.first().length\n",
    "    val m = input.size\n",
    "    \n",
    "    fun List<Int>.convert() = fold(0) {acc, b -> acc * 2 + b}\n",
    "    \n",
    "    fun List<String>.myFilter(bitI: Int, mostCommon: Boolean): List<String> {\n",
    "        val n = size\n",
    "        val r = map { it[bitI] == '1' }\n",
    "        val onesCount = r.count { it }\n",
    "        val isOnes = onesCount * 2 >= n\n",
    "        return filterIndexed { i, _ -> r[i] xor isOnes xor mostCommon  }\n",
    "    }\n",
    "\n",
    "    fun List<String>.myFold(mostCommon: Boolean) = foldIndexed(this) { bitI, acc, _ ->\n",
    "        if (acc.size <= 1) acc else { acc.myFilter(bitI, mostCommon) }\n",
    "    }.single().map {if(it == '0') 0 else 1}.convert()\n",
    "    \n",
    "    override fun part1(): Int {\n",
    "        val result = input.fold(MutableList(n){0}) { acc, line ->\n",
    "            line.forEachIndexed { i, c -> if (c == '1') acc[i]++ };\n",
    "            acc \n",
    "        }.map { if (it * 2 >= m) 1 else 0 }\n",
    "        val iresult = result.map { 1 - it }\n",
    "        return result.convert() * iresult.convert()\n",
    "    }\n",
    "    \n",
    "    override fun part2(): Int {\n",
    "        return input.myFold(true) * input.myFold(false)\n",
    "    }\n",
    "}"
   ]
  },
  {
   "cell_type": "code",
   "execution_count": 6,
   "metadata": {},
   "outputs": [
    {
     "data": {
      "text/html": [
       "<h3 id=\"day4\">Day 4.</h2>\n",
       "<p><b>Part 1 answer:</b> 74320</p>\n",
       "<p><b>Part 2 answer:</b> 17884</p>"
      ]
     },
     "execution_count": 6,
     "metadata": {},
     "output_type": "execute_result"
    }
   ],
   "source": [
    "class Board(val data: List<List<Int>>) {\n",
    "    val mask = MutableList(5) { MutableList(5) { false } }\n",
    "    \n",
    "    fun setNum(n: Int) {\n",
    "        data.forEachIndexed { i, row ->\n",
    "            row.forEachIndexed { j, num -> \n",
    "                if (n == num) mask[i][j] = true\n",
    "            }\n",
    "        }\n",
    "    }\n",
    "    \n",
    "    fun check(): Boolean {\n",
    "        if (mask.any { row -> row.all { it } }) return true\n",
    "        \n",
    "        for (i in 0..4) {\n",
    "            if(mask.all { it[i] }) return true\n",
    "        }\n",
    "        \n",
    "        return false\n",
    "    }\n",
    "    \n",
    "    fun sumUnmarked(): Int {\n",
    "        return data.mapIndexed { rowI, row -> row.filterIndexed { i, _ -> !mask[rowI][i] } }.flatten().sum()\n",
    "    }\n",
    "}\n",
    "\n",
    "object : Day(4) {\n",
    "    val requests = input.first().split(\",\").map {it.toInt()}\n",
    "    val splitRegex = \" +\".toRegex()\n",
    "    val boards = (2 .. (input.size - 2) step 6).map { start ->\n",
    "        val borderLines = input.subList(start, start + 5)\n",
    "        // println(borderLines)\n",
    "        Board(borderLines.map { it.split(splitRegex).filter {!it.isBlank()} .map { it.toInt() } })\n",
    "    }\n",
    "    \n",
    "    override fun part1(): Int {        \n",
    "        for (r in requests) {\n",
    "            for (b in boards) {\n",
    "                b.setNum(r)\n",
    "                if (b.check()) {\n",
    "                    return b.sumUnmarked() * r                    \n",
    "                }\n",
    "            }\n",
    "        }\n",
    "        return 0\n",
    "    }\n",
    "    \n",
    "    override fun part2(): Int {\n",
    "        val winners = mutableSetOf<Int>()\n",
    "        var lastScore  = -1\n",
    "        \n",
    "        for (r in requests) {\n",
    "            for ((ib, b) in boards.withIndex()) {\n",
    "                if (ib in winners) continue\n",
    "                b.setNum(r)\n",
    "                if (b.check()) {\n",
    "                    winners.add(ib)\n",
    "                    lastScore = b.sumUnmarked() * r                    \n",
    "                }\n",
    "            }\n",
    "        }\n",
    "        return lastScore\n",
    "    }\n",
    "}"
   ]
  },
  {
   "cell_type": "code",
   "execution_count": 7,
   "metadata": {
    "scrolled": false
   },
   "outputs": [
    {
     "data": {
      "text/html": [
       "<h3 id=\"day5\">Day 5.</h2>\n",
       "<p><b>Part 1 answer:</b> 4421</p>\n",
       "<p><b>Part 2 answer:</b> 18674</p>"
      ]
     },
     "execution_count": 7,
     "metadata": {},
     "output_type": "execute_result"
    }
   ],
   "source": [
    "object : Day(5) {\n",
    "    val n = 1000\n",
    "    \n",
    "    inner class Line(\n",
    "        val x1: Int,\n",
    "        val y1: Int,\n",
    "        val x2: Int,\n",
    "        val y2: Int,\n",
    "    ) {\n",
    "        fun points(): List<Pair<Int, Int>> {\n",
    "            return buildList {\n",
    "                val mi = (x2 - x1).sign\n",
    "                val mj = (y2 - y1).sign\n",
    "                var x = x1\n",
    "                var y = y1\n",
    "                val n = kotlin.math.max((x2 - x1).absoluteValue, (y2 - y1).absoluteValue)\n",
    "\n",
    "                for(i in 0..n) {\n",
    "                    add(x to y)\n",
    "                    x += mi\n",
    "                    y += mj\n",
    "                }\n",
    "            }\n",
    "        }\n",
    "\n",
    "        val isDiagonal get() = x1 != x2 && y1 != y2\n",
    "    }\n",
    "    \n",
    "    val lines = input.map { line -> \n",
    "        val (p1, p2) = line.split(\" -> \")\n",
    "        val (x1, y1) = p1.split(\",\").map {it.toInt()}\n",
    "        val (x2, y2) = p2.split(\",\").map {it.toInt()}\n",
    "        Line(x1, y1, x2, y2)\n",
    "    }\n",
    "    \n",
    "    fun MutableList<IntArray>.mark(pt: Pair<Int, Int>) {\n",
    "        val v = this[pt.first][pt.second]\n",
    "        this[pt.first][pt.second] = if (v == 0) 1 else 2\n",
    "    }\n",
    "    \n",
    "    override fun part1(): Int {\n",
    "        val a = MutableList(n) { IntArray(n) }\n",
    "        for(line in lines) {\n",
    "            if (line.isDiagonal) continue\n",
    "            line.points().forEach { pt ->\n",
    "                a.mark(pt)\n",
    "            }\n",
    "        }\n",
    "        return a.sumOf { it.count { it == 2 }}\n",
    "    }\n",
    "    \n",
    "    override fun part2(): Int {\n",
    "        val a = MutableList(n) { IntArray(n) }\n",
    "        for(line in lines) {\n",
    "            line.points().forEach { pt ->\n",
    "                a.mark(pt)\n",
    "            }\n",
    "        }\n",
    "        return a.sumOf { it.count { it == 2 }}\n",
    "    }\n",
    "}"
   ]
  },
  {
   "cell_type": "code",
   "execution_count": 8,
   "metadata": {},
   "outputs": [
    {
     "data": {
      "text/html": [
       "<h3 id=\"day6\">Day 6.</h2>\n",
       "<p><b>Part 1 answer:</b> 389726</p>\n",
       "<p><b>Part 2 answer:</b> 1743335992042</p>"
      ]
     },
     "execution_count": 8,
     "metadata": {},
     "output_type": "execute_result"
    }
   ],
   "source": [
    "object : Day(6) {    \n",
    "    val fishes = input.first().split(\",\").map { it.toInt() }\n",
    "    \n",
    "    override fun part1(): Int {\n",
    "        var state = fishes\n",
    "        var born = 0;\n",
    "        for (i in 1..80) {\n",
    "            val newFishes = state.map { if (it == 0) 6 else it - 1 }\n",
    "            state = newFishes + MutableList(born) { 8 }\n",
    "            born = newFishes.count {it == 0}\n",
    "        }\n",
    "        return state.size\n",
    "    }\n",
    "    \n",
    "    override fun part2(): Long {\n",
    "        var state = MutableList(9) { 0L }\n",
    "        fishes.forEach { state[it]++ }\n",
    "        for (i in 1..256) {\n",
    "            state = MutableList(9) { if (it == 8) state[0] else if(it == 6) state[7] + state[0] else state[it + 1] }\n",
    "        }\n",
    "        return state.sum()\n",
    "    }\n",
    "}"
   ]
  },
  {
   "cell_type": "code",
   "execution_count": 9,
   "metadata": {},
   "outputs": [
    {
     "data": {
      "text/html": [
       "<h3 id=\"day7\">Day 7.</h2>\n",
       "<p><b>Part 1 answer:</b> 355764</p>\n",
       "<p><b>Part 2 answer:</b> 99634572</p>"
      ]
     },
     "execution_count": 9,
     "metadata": {},
     "output_type": "execute_result"
    }
   ],
   "source": [
    "object : Day(7) {\n",
    "    val a = input.first().split(\",\").map { it.toInt() }\n",
    "    \n",
    "    override fun part1(): Any {\n",
    "        return a.minOf { el -> a.sumOf { kotlin.math.abs(it - el) } }\n",
    "    }\n",
    "    \n",
    "    override fun part2(): Any {\n",
    "        return a.minOf { el -> a.sumOf { val k = kotlin.math.abs(it - el); k.toLong() * (k + 1)/2 } }\n",
    "    }\n",
    "}"
   ]
  }
 ],
 "metadata": {
  "kernelspec": {
   "display_name": "Kotlin",
   "language": "kotlin",
   "name": "kotlin"
  },
  "language_info": {
   "codemirror_mode": "text/x-kotlin",
   "file_extension": ".kt",
   "mimetype": "text/x-kotlin",
   "name": "kotlin",
   "nbconvert_exporter": "",
   "pygments_lexer": "kotlin",
   "version": "1.6.20-dev-6372"
  }
 },
 "nbformat": 4,
 "nbformat_minor": 4
}
